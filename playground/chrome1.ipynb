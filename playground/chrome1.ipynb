{
 "cells": [
  {
   "cell_type": "code",
   "execution_count": null,
   "metadata": {},
   "outputs": [],
   "source": [
    "# Web scraping library\n",
    "from selenium import webdriver"
   ]
  },
  {
   "cell_type": "code",
   "execution_count": null,
   "metadata": {},
   "outputs": [],
   "source": [
    "base_url = 'https://www.chemistwarehouse.com.au/shop-online/587/swisse'\n",
    "\n",
    "from webdriver_manager.chrome import ChromeDriverManager\n",
    "driver = webdriver.Chrome(ChromeDriverManager().install())"
   ]
  },
  {
   "cell_type": "code",
   "execution_count": null,
   "metadata": {},
   "outputs": [],
   "source": [
    "browser = driver\n",
    "browser.get(base_url)"
   ]
  },
  {
   "cell_type": "code",
   "execution_count": null,
   "metadata": {},
   "outputs": [],
   "source": [
    "driver.page_source"
   ]
  },
  {
   "cell_type": "code",
   "execution_count": null,
   "metadata": {},
   "outputs": [],
   "source": [
    "from bs4 import BeautifulSoup"
   ]
  },
  {
   "cell_type": "code",
   "execution_count": null,
   "metadata": {},
   "outputs": [],
   "source": [
    "import lxml\n",
    "soup = BeautifulSoup(driver.page_source, \"html.parser\")"
   ]
  },
  {
   "cell_type": "code",
   "execution_count": null,
   "metadata": {},
   "outputs": [],
   "source": [
    "soup"
   ]
  },
  {
   "cell_type": "code",
   "execution_count": 72,
   "metadata": {},
   "outputs": [
    {
     "data": {
      "text/plain": [
       "[<div class=\"product--featured product\" data-gtm-vis-first-on-screen-347794_473=\"765\" data-gtm-vis-first-on-screen-347794_475=\"776\" data-gtm-vis-has-fired-347794_473=\"1\" data-gtm-vis-has-fired-347794_475=\"1\" data-gtm-vis-recent-on-screen-347794_473=\"765\" data-gtm-vis-recent-on-screen-347794_475=\"776\" data-gtm-vis-total-visible-time-347794_473=\"100\" data-gtm-vis-total-visible-time-347794_475=\"100\"><div class=\"product__image\"><img class=\"product__image-main\" src=\"https://static.chemistwarehouse.com.au/ams/media/pi/70259/2DF_200.jpg\"/></div><div class=\"product__title\">Swisse Ultiboost Magnesium Calcium + Vitamin D 120 Tablets</div><div class=\"attraqt-star-rating--blue attraqt-star-rating\"><div class=\"attraqt-star-rating-stars\"><div class=\"attraqt-star-rating-stars__bar\" style=\"width: 92%;\"></div></div><div class=\"attraqt-star-rating__count\">(65)</div></div><div class=\"product__price\"><span class=\"product__price-current\">$14.49</span><em class=\"product__price-discount\">$14.50 Off RRP!</em></div><button class=\"product-buy-button product-buy-button--theme-cw\" type=\"button\">Buy now</button></div>,\n",
       " <div class=\"product--featured product\" data-gtm-vis-has-fired-347794_473=\"1\" data-gtm-vis-has-fired-347794_475=\"1\"><div class=\"product__image\"><img class=\"product__image-main\" src=\"https://static.chemistwarehouse.com.au/ams/media/pi/99683/2DF_200.jpg\"/></div><div class=\"product__title\">Swisse Magnesium Powder Orange 180g</div><div class=\"attraqt-star-rating--blue attraqt-star-rating\"><div class=\"attraqt-star-rating-stars\"><div class=\"attraqt-star-rating-stars__bar\" style=\"width: 94.118%;\"></div></div><div class=\"attraqt-star-rating__count\">(17)</div></div><div class=\"product__price\"><span class=\"product__price-current\">$16.49</span><em class=\"product__price-discount\">$16.50 Off RRP!</em></div><button class=\"product-buy-button product-buy-button--theme-cw\" type=\"button\">Buy now</button></div>,\n",
       " <div class=\"product--featured product\" data-gtm-vis-has-fired-347794_473=\"1\" data-gtm-vis-has-fired-347794_475=\"1\"><div class=\"product__image\"><img class=\"product__image-main\" src=\"https://static.chemistwarehouse.com.au/ams/media/pi/100044/2DF_200.jpg\"/></div><div class=\"product__title\">Swisse Vitamin C 500mg 310 Chewable Tablets</div><div class=\"attraqt-star-rating--blue attraqt-star-rating\"><div class=\"attraqt-star-rating-stars\"><div class=\"attraqt-star-rating-stars__bar\" style=\"width: 93.972%;\"></div></div><div class=\"attraqt-star-rating__count\">(73)</div></div><div class=\"product__price\"><span class=\"product__price-current\">$13.24</span><em class=\"product__price-discount\">$13.25 Off RRP!</em></div><button class=\"product-buy-button product-buy-button--theme-cw\" type=\"button\">Buy now</button></div>,\n",
       " <div class=\"product\" data-gtm-vis-has-fired-347794_473=\"1\"><div class=\"product__image\"><img class=\"product__image-main\" src=\"https://static.chemistwarehouse.com.au/ams/media/pi/55511/2DF_200.jpg\"/><img class=\"product__image-splat\" role=\"presentation\" src=\"https://static.chemistwarehouse.com.au/ams/media/images/better_than_half_price.png\"/></div><div class=\"product__title\">Swisse Men's Ultivite Multivitamin 120 Tablets</div><div class=\"attraqt-star-rating--blue attraqt-star-rating\"><div class=\"attraqt-star-rating-stars\"><div class=\"attraqt-star-rating-stars__bar\" style=\"width: 94.528%;\"></div></div><div class=\"attraqt-star-rating__count\">(329)</div></div><div class=\"product__price\"><span class=\"product__price-current\">$29.99</span><em class=\"product__price-discount\">$42.00 Off RRP!</em></div><button class=\"product-buy-button product-buy-button--theme-cw\" type=\"button\">Buy now</button></div>,\n",
       " <div class=\"product\" data-gtm-vis-has-fired-347794_473=\"1\"><div class=\"product__image\"><img class=\"product__image-main\" src=\"https://static.chemistwarehouse.com.au/ams/media/pi/67491/2DF_200.jpg\"/><img class=\"product__image-splat\" role=\"presentation\" src=\"https://static.chemistwarehouse.com.au/ams/media/images/better_than_half_price.png\"/></div><div class=\"product__title\">Swisse Ultiboost Calcium + Vitamin D 150 Tablets</div><div class=\"attraqt-star-rating--blue attraqt-star-rating\"><div class=\"attraqt-star-rating-stars\"><div class=\"attraqt-star-rating-stars__bar\" style=\"width: 92.492%;\"></div></div><div class=\"attraqt-star-rating__count\">(333)</div></div><div class=\"product__price\"><span class=\"product__price-current\">$12.99</span><em class=\"product__price-discount\">$17.00 Off RRP!</em></div><button class=\"product-buy-button product-buy-button--theme-cw\" type=\"button\">Buy now</button></div>,\n",
       " <div class=\"product\" data-gtm-vis-has-fired-347794_473=\"1\"><div class=\"product__image\"><img class=\"product__image-main\" src=\"https://static.chemistwarehouse.com.au/ams/media/pi/52658/2DF_200.jpg\"/><img class=\"product__image-splat\" role=\"presentation\" src=\"https://static.chemistwarehouse.com.au/ams/media/images/better_than_half_price.png\"/></div><div class=\"product__title\">Swisse Women's Ultivite Multivitamin 120 Tablets</div><div class=\"attraqt-star-rating--blue attraqt-star-rating\"><div class=\"attraqt-star-rating-stars\"><div class=\"attraqt-star-rating-stars__bar\" style=\"width: 92.344%;\"></div></div><div class=\"attraqt-star-rating__count\">(337)</div></div><div class=\"product__price\"><span class=\"product__price-current\">$29.99</span><em class=\"product__price-discount\">$42.00 Off RRP!</em></div><button class=\"product-buy-button product-buy-button--theme-cw\" type=\"button\">Buy now</button></div>,\n",
       " <div class=\"product\" data-gtm-vis-has-fired-347794_473=\"1\"><div class=\"product__image\"><img class=\"product__image-main\" src=\"https://static.chemistwarehouse.com.au/ams/media/pi/76017/2DF_200.jpg\"/><img class=\"product__image-splat\" role=\"presentation\" src=\"https://static.chemistwarehouse.com.au/ams/media/images/better_than_half_price.png\"/></div><div class=\"product__title\">Swisse Vitamin C 1000mg 150 Tablets</div><div class=\"attraqt-star-rating--blue attraqt-star-rating\"><div class=\"attraqt-star-rating-stars\"><div class=\"attraqt-star-rating-stars__bar\" style=\"width: 92.55%;\"></div></div><div class=\"attraqt-star-rating__count\">(102)</div></div><div class=\"product__price\"><span class=\"product__price-current\">$18.99</span><em class=\"product__price-discount\">$21.00 Off RRP!</em></div><button class=\"product-buy-button product-buy-button--theme-cw\" type=\"button\">Buy now</button></div>,\n",
       " <div class=\"product\" data-gtm-vis-has-fired-347794_473=\"1\"><div class=\"product__image\"><img class=\"product__image-main\" src=\"https://static.chemistwarehouse.com.au/ams/media/pi/69162/2DF_200.jpg\"/><img class=\"product__image-splat\" role=\"presentation\" src=\"https://static.chemistwarehouse.com.au/ams/media/images/better_than_half_price.png\"/></div><div class=\"product__title\">Swisse Ultiboost Vitamin D 400 Capsules</div><div class=\"attraqt-star-rating--blue attraqt-star-rating\"><div class=\"attraqt-star-rating-stars\"><div class=\"attraqt-star-rating-stars__bar\" style=\"width: 95.578%;\"></div></div><div class=\"attraqt-star-rating__count\">(484)</div></div><div class=\"product__price\"><span class=\"product__price-current\">$15.99</span><em class=\"product__price-discount\">$20.50 Off RRP!</em></div><button class=\"product-buy-button product-buy-button--theme-cw\" type=\"button\">Buy now</button></div>,\n",
       " <div class=\"product\" data-gtm-vis-has-fired-347794_473=\"1\"><div class=\"product__image\"><img class=\"product__image-main\" src=\"https://static.chemistwarehouse.com.au/ams/media/pi/69163/2DF_200.jpg\"/><img class=\"product__image-splat\" role=\"presentation\" src=\"https://static.chemistwarehouse.com.au/ams/media/images/better_than_half_price.png\"/></div><div class=\"product__title\">Swisse Ultiboost Magnesium 200 Tablets</div><div class=\"attraqt-star-rating--blue attraqt-star-rating\"><div class=\"attraqt-star-rating-stars\"><div class=\"attraqt-star-rating-stars__bar\" style=\"width: 95.972%;\"></div></div><div class=\"attraqt-star-rating__count\">(293)</div></div><div class=\"product__price\"><span class=\"product__price-current\">$22.99</span><em class=\"product__price-discount\">$23.00 Off RRP!</em></div><button class=\"product-buy-button product-buy-button--theme-cw\" type=\"button\">Buy now</button></div>,\n",
       " <div class=\"product\" data-gtm-vis-has-fired-347794_473=\"1\"><div class=\"product__image\"><img class=\"product__image-main\" src=\"https://static.chemistwarehouse.com.au/ams/media/pi/79795/2DF_200.jpg\"/><img class=\"product__image-splat\" role=\"presentation\" src=\"https://static.chemistwarehouse.com.au/ams/media/images/better_than_half_price.png\"/></div><div class=\"product__title\">Swisse Ultiboost Co Enzyme Q10 150mg 180 Capsules</div><div class=\"attraqt-star-rating--blue attraqt-star-rating\"><div class=\"attraqt-star-rating-stars\"><div class=\"attraqt-star-rating-stars__bar\" style=\"width: 95.648%;\"></div></div><div class=\"attraqt-star-rating__count\">(386)</div></div><div class=\"product__price\"><span class=\"product__price-current\">$39.99</span><em class=\"product__price-discount\">$60.00 Off RRP!</em></div><button class=\"product-buy-button product-buy-button--theme-cw\" type=\"button\">Buy now</button></div>,\n",
       " <div class=\"product\" data-gtm-vis-has-fired-347794_473=\"1\"><div class=\"product__image\"><img class=\"product__image-main\" src=\"https://static.chemistwarehouse.com.au/ams/media/pi/64872/2DF_200.jpg\"/><img class=\"product__image-splat\" role=\"presentation\" src=\"https://static.chemistwarehouse.com.au/ams/media/images/better_than_half_price.png\"/></div><div class=\"product__title\">Swisse Ultiboost Zinc+ 60 Tablets</div><div class=\"attraqt-star-rating--blue attraqt-star-rating\"><div class=\"attraqt-star-rating-stars\"><div class=\"attraqt-star-rating-stars__bar\" style=\"width: 95.168%;\"></div></div><div class=\"attraqt-star-rating__count\">(149)</div></div><div class=\"product__price\"><span class=\"product__price-current\">$7.49</span><em class=\"product__price-discount\">$8.46 Off RRP!</em></div><button class=\"product-buy-button product-buy-button--theme-cw\" type=\"button\">Buy now</button></div>,\n",
       " <div class=\"product\" data-gtm-vis-has-fired-347794_473=\"1\"><div class=\"product__image\"><img class=\"product__image-main\" src=\"https://static.chemistwarehouse.com.au/ams/media/pi/58108/2DF_200.jpg\"/><img class=\"product__image-splat\" role=\"presentation\" src=\"https://static.chemistwarehouse.com.au/ams/media/images/better_than_half_price.png\"/></div><div class=\"product__title\">Swisse Ultiboost Sleep 100 Tablets</div><div class=\"attraqt-star-rating--blue attraqt-star-rating\"><div class=\"attraqt-star-rating-stars\"><div class=\"attraqt-star-rating-stars__bar\" style=\"width: 85.804%;\"></div></div><div class=\"attraqt-star-rating__count\">(286)</div></div><div class=\"product__price\"><span class=\"product__price-current\">$16.49</span><em class=\"product__price-discount\">$30.50 Off RRP!</em></div><button class=\"product-buy-button product-buy-button--theme-cw\" type=\"button\">Buy now</button></div>,\n",
       " <div class=\"product\" data-gtm-vis-has-fired-347794_473=\"1\"><div class=\"product__image\"><img class=\"product__image-main\" src=\"https://static.chemistwarehouse.com.au/ams/media/pi/66552/2DF_200.jpg\"/><img class=\"product__image-splat\" role=\"presentation\" src=\"https://static.chemistwarehouse.com.au/ams/media/images/better_than_half_price.png\"/></div><div class=\"product__title\">Swisse Ultiboost Liver Detox 120 Tablets</div><div class=\"attraqt-star-rating--blue attraqt-star-rating\"><div class=\"attraqt-star-rating-stars\"><div class=\"attraqt-star-rating-stars__bar\" style=\"width: 94.344%;\"></div></div><div class=\"attraqt-star-rating__count\">(99)</div></div><div class=\"product__price\"><span class=\"product__price-current\">$19.99</span><em class=\"product__price-discount\">$22.00 Off RRP!</em></div><button class=\"product-buy-button product-buy-button--theme-cw\" type=\"button\">Buy now</button></div>,\n",
       " <div class=\"product\" data-gtm-vis-has-fired-347794_473=\"1\"><div class=\"product__image\"><img class=\"product__image-main\" src=\"https://static.chemistwarehouse.com.au/ams/media/pi/109607/2DF_200.jpg\"/><img class=\"product__image-splat\" role=\"presentation\" src=\"https://static.chemistwarehouse.com.au/ams/media/images/better_than_half_price.png\"/></div><div class=\"product__title\">Swisse Zinc+ 120 Tablets</div><div class=\"attraqt-star-rating--blue attraqt-star-rating\"><div class=\"attraqt-star-rating-stars\"><div class=\"attraqt-star-rating-stars__bar\" style=\"width: 93.914%;\"></div></div><div class=\"attraqt-star-rating__count\">(23)</div></div><div class=\"product__price\"><span class=\"product__price-current\">$10.40</span><em class=\"product__price-discount\">$15.59 Off RRP!</em></div><button class=\"product-buy-button product-buy-button--theme-cw\" type=\"button\">Buy now</button></div>,\n",
       " <div class=\"product\" data-gtm-vis-has-fired-347794_473=\"1\"><div class=\"product__image\"><img class=\"product__image-main\" src=\"https://static.chemistwarehouse.com.au/ams/media/pi/67489/2DF_200.jpg\"/><img class=\"product__image-splat\" role=\"presentation\" src=\"https://static.chemistwarehouse.com.au/ams/media/images/better_than_half_price.png\"/></div><div class=\"product__title\">Swisse Ultiboost Odourless High Strength Wild Fish Oil 1500mg 400 Capsules</div><div class=\"attraqt-star-rating--blue attraqt-star-rating\"><div class=\"attraqt-star-rating-stars\"><div class=\"attraqt-star-rating-stars__bar\" style=\"width: 95.17%;\"></div></div><div class=\"attraqt-star-rating__count\">(207)</div></div><div class=\"product__price\"><span class=\"product__price-current\">$22.24</span><em class=\"product__price-discount\">$22.25 Off RRP!</em></div><button class=\"product-buy-button product-buy-button--theme-cw\" type=\"button\">Buy now</button></div>,\n",
       " <div class=\"product\" data-gtm-vis-has-fired-347794_473=\"1\"><div class=\"product__image\"><img class=\"product__image-main\" src=\"https://static.chemistwarehouse.com.au/ams/media/pi/80460/2DF_200.jpg\"/><img class=\"product__image-splat\" role=\"presentation\" src=\"https://static.chemistwarehouse.com.au/ams/media/images/better_than_half_price.png\"/></div><div class=\"product__title\">Swisse Ultiboost Liver Detox 200 Tablets</div><div class=\"attraqt-star-rating--blue attraqt-star-rating\"><div class=\"attraqt-star-rating-stars\"><div class=\"attraqt-star-rating-stars__bar\" style=\"width: 93.21%;\"></div></div><div class=\"attraqt-star-rating__count\">(271)</div></div><div class=\"product__price\"><span class=\"product__price-current\">$26.49</span><em class=\"product__price-discount\">$26.50 Off RRP!</em></div><button class=\"product-buy-button product-buy-button--theme-cw\" type=\"button\">Buy now</button></div>,\n",
       " <div class=\"product\" data-gtm-vis-has-fired-347794_473=\"1\"><div class=\"product__image\"><img class=\"product__image-main\" src=\"https://static.chemistwarehouse.com.au/ams/media/pi/59774/2DF_200.jpg\"/><img class=\"product__image-splat\" role=\"presentation\" src=\"https://static.chemistwarehouse.com.au/ams/media/images/better_than_half_price.png\"/></div><div class=\"product__title\">Swisse Ultiboost Iron 30 Tablets</div><div class=\"attraqt-star-rating--blue attraqt-star-rating\"><div class=\"attraqt-star-rating-stars\"><div class=\"attraqt-star-rating-stars__bar\" style=\"width: 92.162%;\"></div></div><div class=\"attraqt-star-rating__count\">(148)</div></div><div class=\"product__price\"><span class=\"product__price-current\">$6.24</span><em class=\"product__price-discount\">$6.25 Off RRP!</em></div><button class=\"product-buy-button product-buy-button--theme-cw\" type=\"button\">Buy now</button></div>,\n",
       " <div class=\"product\" data-gtm-vis-has-fired-347794_473=\"1\"><div class=\"product__image\"><img class=\"product__image-main\" src=\"https://static.chemistwarehouse.com.au/ams/media/pi/56439/2DF_200.jpg\"/><img class=\"product__image-splat\" role=\"presentation\" src=\"https://static.chemistwarehouse.com.au/ams/media/images/better_than_half_price.png\"/></div><div class=\"product__title\">Swisse Ultiboost Prostate 50 Tablets</div><div class=\"attraqt-star-rating--blue attraqt-star-rating\"><div class=\"attraqt-star-rating-stars\"><div class=\"attraqt-star-rating-stars__bar\" style=\"width: 87.61%;\"></div></div><div class=\"attraqt-star-rating__count\">(113)</div></div><div class=\"product__price\"><span class=\"product__price-current\">$16.99</span><em class=\"product__price-discount\">$32.50 Off RRP!</em></div><button class=\"product-buy-button product-buy-button--theme-cw\" type=\"button\">Buy now</button></div>,\n",
       " <div class=\"product\" data-gtm-vis-has-fired-347794_473=\"1\"><div class=\"product__image\"><img class=\"product__image-main\" src=\"https://static.chemistwarehouse.com.au/ams/media/pi/100044/2DF_200.jpg\"/><img class=\"product__image-splat\" role=\"presentation\" src=\"https://static.chemistwarehouse.com.au/ams/media/images/better_than_half_price.png\"/></div><div class=\"product__title\">Swisse Vitamin C 500mg 310 Chewable Tablets</div><div class=\"attraqt-star-rating--blue attraqt-star-rating\"><div class=\"attraqt-star-rating-stars\"><div class=\"attraqt-star-rating-stars__bar\" style=\"width: 93.972%;\"></div></div><div class=\"attraqt-star-rating__count\">(73)</div></div><div class=\"product__price\"><span class=\"product__price-current\">$13.24</span><em class=\"product__price-discount\">$13.25 Off RRP!</em></div><button class=\"product-buy-button product-buy-button--theme-cw\" type=\"button\">Buy now</button></div>,\n",
       " <div class=\"product\" data-gtm-vis-has-fired-347794_473=\"1\"><div class=\"product__image\"><img class=\"product__image-main\" src=\"https://static.chemistwarehouse.com.au/ams/media/pi/74651/3DF_200.jpg\"/><img class=\"product__image-splat\" role=\"presentation\" src=\"https://static.chemistwarehouse.com.au/ams/media/images/better_than_half_price.png\"/></div><div class=\"product__title\">Swisse Vitamin C 60 Effervescent Tablets</div><div class=\"attraqt-star-rating--blue attraqt-star-rating\"><div class=\"attraqt-star-rating-stars\"><div class=\"attraqt-star-rating-stars__bar\" style=\"width: 95.704%;\"></div></div><div class=\"attraqt-star-rating__count\">(135)</div></div><div class=\"product__price\"><span class=\"product__price-current\">$13.99</span><em class=\"product__price-discount\">$24.00 Off RRP!</em></div><button class=\"product-buy-button product-buy-button--theme-cw\" type=\"button\">Buy now</button></div>,\n",
       " <div class=\"product\" data-gtm-vis-has-fired-347794_473=\"1\"><div class=\"product__image\"><img class=\"product__image-main\" src=\"https://static.chemistwarehouse.com.au/ams/media/pi/58347/2DF_200.jpg\"/><img class=\"product__image-splat\" role=\"presentation\" src=\"https://static.chemistwarehouse.com.au/ams/media/images/better_than_half_price.png\"/></div><div class=\"product__title\">Swisse Men's Ultivite 50+ Multivitamin 90 Tablets</div><div class=\"attraqt-star-rating--blue attraqt-star-rating\"><div class=\"attraqt-star-rating-stars\"><div class=\"attraqt-star-rating-stars__bar\" style=\"width: 96.2%;\"></div></div><div class=\"attraqt-star-rating__count\">(100)</div></div><div class=\"product__price\"><span class=\"product__price-current\">$29.97</span><em class=\"product__price-discount\">$29.98 Off RRP!</em></div><button class=\"product-buy-button product-buy-button--theme-cw\" type=\"button\">Buy now</button></div>,\n",
       " <div class=\"product\" data-gtm-vis-has-fired-347794_473=\"1\"><div class=\"product__image\"><img class=\"product__image-main\" src=\"https://static.chemistwarehouse.com.au/ams/media/pi/71935/2DF_200.jpg\"/><img class=\"product__image-splat\" role=\"presentation\" src=\"https://static.chemistwarehouse.com.au/ams/media/images/better_than_half_price.png\"/></div><div class=\"product__title\">Swisse Vitamin B12 60 Tablets</div><div class=\"attraqt-star-rating--blue attraqt-star-rating\"><div class=\"attraqt-star-rating-stars\"><div class=\"attraqt-star-rating-stars__bar\" style=\"width: 94.286%;\"></div></div><div class=\"attraqt-star-rating__count\">(98)</div></div><div class=\"product__price\"><span class=\"product__price-current\">$9.49</span><em class=\"product__price-discount\">$9.50 Off RRP!</em></div><button class=\"product-buy-button product-buy-button--theme-cw\" type=\"button\">Buy now</button></div>,\n",
       " <div class=\"product\" data-gtm-vis-has-fired-347794_473=\"1\"><div class=\"product__image\"><img class=\"product__image-main\" src=\"https://static.chemistwarehouse.com.au/ams/media/pi/80463/2DF_200.jpg\"/><img class=\"product__image-splat\" role=\"presentation\" src=\"https://static.chemistwarehouse.com.au/ams/media/images/better_than_half_price.png\"/></div><div class=\"product__title\">Swisse Ultiboost Lecithin 1200mg 300 Capsules</div><div class=\"attraqt-star-rating--blue attraqt-star-rating\"><div class=\"attraqt-star-rating-stars\"><div class=\"attraqt-star-rating-stars__bar\" style=\"width: 91.082%;\"></div></div><div class=\"attraqt-star-rating__count\">(74)</div></div><div class=\"product__price\"><span class=\"product__price-current\">$25.99</span><em class=\"product__price-discount\">$44.00 Off RRP!</em></div><button class=\"product-buy-button product-buy-button--theme-cw\" type=\"button\">Buy now</button></div>,\n",
       " <div class=\"product\" data-gtm-vis-has-fired-347794_473=\"1\"><div class=\"product__image\"><img class=\"product__image-main\" src=\"https://static.chemistwarehouse.com.au/ams/media/pi/80611/2DF_200.jpg\"/><img class=\"product__image-splat\" role=\"presentation\" src=\"https://static.chemistwarehouse.com.au/ams/media/images/better_than_half_price.png\"/></div><div class=\"product__title\">Swisse Cranberry 90 Capsules</div><div class=\"attraqt-star-rating--blue attraqt-star-rating\"><div class=\"attraqt-star-rating-stars\"><div class=\"attraqt-star-rating-stars__bar\" style=\"width: 96.452%;\"></div></div><div class=\"attraqt-star-rating__count\">(124)</div></div><div class=\"product__price\"><span class=\"product__price-current\">$33.99</span><em class=\"product__price-discount\">$40.00 Off RRP!</em></div><button class=\"product-buy-button product-buy-button--theme-cw\" type=\"button\">Buy now</button></div>,\n",
       " <div class=\"product\" data-gtm-vis-has-fired-347794_473=\"1\"><div class=\"product__image\"><img class=\"product__image-main\" src=\"https://static.chemistwarehouse.com.au/ams/media/pi/70259/2DF_200.jpg\"/><img class=\"product__image-splat\" role=\"presentation\" src=\"https://static.chemistwarehouse.com.au/ams/media/images/better_than_half_price.png\"/></div><div class=\"product__title\">Swisse Ultiboost Magnesium Calcium + Vitamin D 120 Tablets</div><div class=\"attraqt-star-rating--blue attraqt-star-rating\"><div class=\"attraqt-star-rating-stars\"><div class=\"attraqt-star-rating-stars__bar\" style=\"width: 92%;\"></div></div><div class=\"attraqt-star-rating__count\">(65)</div></div><div class=\"product__price\"><span class=\"product__price-current\">$14.49</span><em class=\"product__price-discount\">$14.50 Off RRP!</em></div><button class=\"product-buy-button product-buy-button--theme-cw\" type=\"button\">Buy now</button></div>,\n",
       " <div class=\"product\" data-gtm-vis-has-fired-347794_473=\"1\"><div class=\"product__image\"><img class=\"product__image-main\" src=\"https://static.chemistwarehouse.com.au/ams/media/pi/99505/2DF_200.jpg\"/><img class=\"product__image-splat\" role=\"presentation\" src=\"https://static.chemistwarehouse.com.au/ams/media/images/better_than_half_price.png\"/></div><div class=\"product__title\">Swisse Daily Immune Support 60 Tablets</div><div class=\"attraqt-star-rating--blue attraqt-star-rating\"><div class=\"attraqt-star-rating-stars\"><div class=\"attraqt-star-rating-stars__bar\" style=\"width: 95.898%;\"></div></div><div class=\"attraqt-star-rating__count\">(39)</div></div><div class=\"product__price\"><span class=\"product__price-current\">$9.97</span><em class=\"product__price-discount\">$9.98 Off RRP!</em></div><button class=\"product-buy-button product-buy-button--theme-cw\" type=\"button\">Buy now</button></div>,\n",
       " <div class=\"product\" data-gtm-vis-has-fired-347794_473=\"1\"><div class=\"product__image\"><img class=\"product__image-main\" src=\"https://static.chemistwarehouse.com.au/ams/media/pi/110335/2DF_200.jpg\"/><img class=\"product__image-splat\" role=\"presentation\" src=\"https://static.chemistwarehouse.com.au/ams/media/images/better_than_half_price.png\"/></div><div class=\"product__title\">Swisse Kids Probiotic &amp; Prebiotic Gummies 45 Pack</div><div class=\"attraqt-star-rating--blue attraqt-star-rating\"><div class=\"attraqt-star-rating-stars\"><div class=\"attraqt-star-rating-stars__bar\" style=\"width: 100%;\"></div></div><div class=\"attraqt-star-rating__count\">(4)</div></div><div class=\"product__price\"><span class=\"product__price-current\">$7.49</span><em class=\"product__price-discount\">$11.50 Off RRP!</em></div><button class=\"product-buy-button product-buy-button--theme-cw\" type=\"button\">Buy now</button></div>,\n",
       " <div class=\"product\" data-gtm-vis-has-fired-347794_473=\"1\"><div class=\"product__image\"><img class=\"product__image-main\" src=\"https://static.chemistwarehouse.com.au/ams/media/pi/89644/2DF_200.jpg\"/><img class=\"product__image-splat\" role=\"presentation\" src=\"https://static.chemistwarehouse.com.au/ams/media/images/better_than_half_price.png\"/></div><div class=\"product__title\">Swisse Ultibiotic Daily Digestive Probiotic 90 Capsules</div><div class=\"attraqt-star-rating--blue attraqt-star-rating\"><div class=\"attraqt-star-rating-stars\"><div class=\"attraqt-star-rating-stars__bar\" style=\"width: 90.984%;\"></div></div><div class=\"attraqt-star-rating__count\">(193)</div></div><div class=\"product__price\"><span class=\"product__price-current\">$36.99</span><em class=\"product__price-discount\">$47.00 Off RRP!</em></div><button class=\"product-buy-button product-buy-button--theme-cw\" type=\"button\">Buy now</button></div>,\n",
       " <div class=\"product\" data-gtm-vis-has-fired-347794_473=\"1\"><div class=\"product__image\"><img class=\"product__image-main\" src=\"https://static.chemistwarehouse.com.au/ams/media/pi/58346/2DF_200.jpg\"/><img class=\"product__image-splat\" role=\"presentation\" src=\"https://static.chemistwarehouse.com.au/ams/media/images/better_than_half_price.png\"/></div><div class=\"product__title\">Swisse Women's Ultivite 50+ Multivitamin 90 Tablets</div><div class=\"attraqt-star-rating--blue attraqt-star-rating\"><div class=\"attraqt-star-rating-stars\"><div class=\"attraqt-star-rating-stars__bar\" style=\"width: 95.038%;\"></div></div><div class=\"attraqt-star-rating__count\">(129)</div></div><div class=\"product__price\"><span class=\"product__price-current\">$29.97</span><em class=\"product__price-discount\">$29.98 Off RRP!</em></div><button class=\"product-buy-button product-buy-button--theme-cw\" type=\"button\">Buy now</button></div>,\n",
       " <div class=\"product\" data-gtm-vis-has-fired-347794_473=\"1\"><div class=\"product__image\"><img class=\"product__image-main\" src=\"https://static.chemistwarehouse.com.au/ams/media/pi/31581/2DF_200.jpg\"/><img class=\"product__image-splat\" role=\"presentation\" src=\"https://static.chemistwarehouse.com.au/ams/media/images/better_than_half_price.png\"/></div><div class=\"product__title\">Swisse Men's Ultivite Multivitamin 60 Tablets</div><div class=\"attraqt-star-rating--blue attraqt-star-rating\"><div class=\"attraqt-star-rating-stars\"><div class=\"attraqt-star-rating-stars__bar\" style=\"width: 95.77%;\"></div></div><div class=\"attraqt-star-rating__count\">(52)</div></div><div class=\"product__price\"><span class=\"product__price-current\">$15.99</span><em class=\"product__price-discount\">$22.00 Off RRP!</em></div><button class=\"product-buy-button product-buy-button--theme-cw\" type=\"button\">Buy now</button></div>,\n",
       " <div class=\"product\" data-gtm-vis-has-fired-347794_473=\"1\"><div class=\"product__image\"><img class=\"product__image-main\" src=\"https://static.chemistwarehouse.com.au/ams/media/pi/80462/2DF_200.jpg\"/><img class=\"product__image-splat\" role=\"presentation\" src=\"https://static.chemistwarehouse.com.au/ams/media/images/better_than_half_price.png\"/></div><div class=\"product__title\">Swisse Propolis 2000mg 300 Capsules</div><div class=\"attraqt-star-rating--blue attraqt-star-rating\"><div class=\"attraqt-star-rating-stars\"><div class=\"attraqt-star-rating-stars__bar\" style=\"width: 92.38%;\"></div></div><div class=\"attraqt-star-rating__count\">(63)</div></div><div class=\"product__price\"><span class=\"product__price-current\">$27.99</span><em class=\"product__price-discount\">$46.00 Off RRP!</em></div><button class=\"product-buy-button product-buy-button--theme-cw\" type=\"button\">Buy now</button></div>,\n",
       " <div class=\"product\" data-gtm-vis-has-fired-347794_473=\"1\"><div class=\"product__image\"><img class=\"product__image-main\" src=\"https://static.chemistwarehouse.com.au/ams/media/pi/92698/2DF_200.jpg\"/><img class=\"product__image-splat\" role=\"presentation\" src=\"https://static.chemistwarehouse.com.au/ams/media/images/better_than_half_price.png\"/></div><div class=\"product__title\">Swisse Kids Rest &amp; Restore 60 Tablets</div><div class=\"attraqt-star-rating--blue attraqt-star-rating\"><div class=\"attraqt-star-rating-stars\"><div class=\"attraqt-star-rating-stars__bar\" style=\"width: 71.428%;\"></div></div><div class=\"attraqt-star-rating__count\">(35)</div></div><div class=\"product__price\"><span class=\"product__price-current\">$12.49</span><em class=\"product__price-discount\">$12.50 Off RRP!</em></div><button class=\"product-buy-button product-buy-button--theme-cw\" type=\"button\">Buy now</button></div>,\n",
       " <div class=\"product\" data-gtm-vis-has-fired-347794_473=\"1\"><div class=\"product__image\"><img class=\"product__image-main\" src=\"https://static.chemistwarehouse.com.au/ams/media/pi/110334/2DF_200.jpg\"/><img class=\"product__image-splat\" role=\"presentation\" src=\"https://static.chemistwarehouse.com.au/ams/media/images/better_than_half_price.png\"/></div><div class=\"product__title\">Swisse Adults Probiotic &amp; Prebiotic Gummies 45 Pack</div><div class=\"attraqt-star-rating--blue attraqt-star-rating\"><div class=\"attraqt-star-rating-stars\"><div class=\"attraqt-star-rating-stars__bar\" style=\"width: 87.142%;\"></div></div><div class=\"attraqt-star-rating__count\">(14)</div></div><div class=\"product__price\"><span class=\"product__price-current\">$12.49</span><em class=\"product__price-discount\">$12.50 Off RRP!</em></div><button class=\"product-buy-button product-buy-button--theme-cw\" type=\"button\">Buy now</button></div>,\n",
       " <div class=\"product\" data-gtm-vis-has-fired-347794_473=\"1\"><div class=\"product__image\"><img class=\"product__image-main\" src=\"https://static.chemistwarehouse.com.au/ams/media/pi/88419/2DF_200.jpg\"/><img class=\"product__image-splat\" role=\"presentation\" src=\"https://static.chemistwarehouse.com.au/ams/media/images/better_than_half_price.png\"/></div><div class=\"product__title\">Swisse CoQ10 300mg 90 Capsules</div><div class=\"attraqt-star-rating--blue attraqt-star-rating\"><div class=\"attraqt-star-rating-stars\"><div class=\"attraqt-star-rating-stars__bar\" style=\"width: 95.85%;\"></div></div><div class=\"attraqt-star-rating__count\">(106)</div></div><div class=\"product__price\"><span class=\"product__price-current\">$33.49</span><em class=\"product__price-discount\">$33.50 Off RRP!</em></div><button class=\"product-buy-button product-buy-button--theme-cw\" type=\"button\">Buy now</button></div>,\n",
       " <div class=\"product\" data-gtm-vis-has-fired-347794_473=\"1\"><div class=\"product__image\"><img class=\"product__image-main\" src=\"https://static.chemistwarehouse.com.au/ams/media/pi/67499/2DF_200.jpg\"/><img class=\"product__image-splat\" role=\"presentation\" src=\"https://static.chemistwarehouse.com.au/ams/media/images/better_than_half_price.png\"/></div><div class=\"product__title\">Swisse Organic Spirulina 1000mg 200 Tablets</div><div class=\"attraqt-star-rating--blue attraqt-star-rating\"><div class=\"attraqt-star-rating-stars\"><div class=\"attraqt-star-rating-stars__bar\" style=\"width: 96.924%;\"></div></div><div class=\"attraqt-star-rating__count\">(65)</div></div><div class=\"product__price\"><span class=\"product__price-current\">$24.99</span><em class=\"product__price-discount\">$28.00 Off RRP!</em></div><button class=\"product-buy-button product-buy-button--theme-cw\" type=\"button\">Buy now</button></div>,\n",
       " <div class=\"product\" data-gtm-vis-has-fired-347794_473=\"1\"><div class=\"product__image\"><img class=\"product__image-main\" src=\"https://static.chemistwarehouse.com.au/ams/media/pi/57049/2DF_200.jpg\"/><img class=\"product__image-splat\" role=\"presentation\" src=\"https://static.chemistwarehouse.com.au/ams/media/images/better_than_half_price.png\"/></div><div class=\"product__title\">Swisse Ultiboost Memory + Focus 50 Tablets</div><div class=\"attraqt-star-rating--blue attraqt-star-rating\"><div class=\"attraqt-star-rating-stars\"><div class=\"attraqt-star-rating-stars__bar\" style=\"width: 87.368%;\"></div></div><div class=\"attraqt-star-rating__count\">(57)</div></div><div class=\"product__price\"><span class=\"product__price-current\">$15.99</span><em class=\"product__price-discount\">$16.00 Off RRP!</em></div><button class=\"product-buy-button product-buy-button--theme-cw\" type=\"button\">Buy now</button></div>,\n",
       " <div class=\"product\" data-gtm-vis-has-fired-347794_473=\"1\"><div class=\"product__image\"><img class=\"product__image-main\" src=\"https://static.chemistwarehouse.com.au/ams/media/pi/77526/2DF_200.jpg\"/><img class=\"product__image-splat\" role=\"presentation\" src=\"https://static.chemistwarehouse.com.au/ams/media/images/better_than_half_price.png\"/></div><div class=\"product__title\">Swisse Ultiboost Lung Health Support 90 Tablets</div><div class=\"attraqt-star-rating--blue attraqt-star-rating\"><div class=\"attraqt-star-rating-stars\"><div class=\"attraqt-star-rating-stars__bar\" style=\"width: 89.302%;\"></div></div><div class=\"attraqt-star-rating__count\">(43)</div></div><div class=\"product__price\"><span class=\"product__price-current\">$25.99</span><em class=\"product__price-discount\">$39.00 Off RRP!</em></div><button class=\"product-buy-button product-buy-button--theme-cw\" type=\"button\">Buy now</button></div>,\n",
       " <div class=\"product\" data-gtm-vis-has-fired-347794_473=\"1\"><div class=\"product__image\"><img class=\"product__image-main\" src=\"https://static.chemistwarehouse.com.au/ams/media/pi/59771/2DF_200.jpg\"/><img class=\"product__image-splat\" role=\"presentation\" src=\"https://static.chemistwarehouse.com.au/ams/media/images/better_than_half_price.png\"/></div><div class=\"product__title\">Swisse Ultiboost Vitamin D 60 Capsules</div><div class=\"attraqt-star-rating--blue attraqt-star-rating\"><div class=\"attraqt-star-rating-stars\"><div class=\"attraqt-star-rating-stars__bar\" style=\"width: 90.714%;\"></div></div><div class=\"attraqt-star-rating__count\">(28)</div></div><div class=\"product__price\"><span class=\"product__price-current\">$6.74</span><em class=\"product__price-discount\">$6.75 Off RRP!</em></div><button class=\"product-buy-button product-buy-button--theme-cw\" type=\"button\">Buy now</button></div>,\n",
       " <div class=\"product\" data-gtm-vis-has-fired-347794_473=\"1\"><div class=\"product__image\"><img class=\"product__image-main\" src=\"https://static.chemistwarehouse.com.au/ams/media/pi/71941/2DF_200.jpg\"/><img class=\"product__image-splat\" role=\"presentation\" src=\"https://static.chemistwarehouse.com.au/ams/media/images/better_than_half_price.png\"/></div><div class=\"product__title\">Swisse Ultiboost 4 x Strength Wild Fish Oil Concentrate 60 Capsules</div><div class=\"attraqt-star-rating--blue attraqt-star-rating\"><div class=\"attraqt-star-rating-stars\"><div class=\"attraqt-star-rating-stars__bar\" style=\"width: 97.022%;\"></div></div><div class=\"attraqt-star-rating__count\">(47)</div></div><div class=\"product__price\"><span class=\"product__price-current\">$19.49</span><em class=\"product__price-discount\">$19.50 Off RRP!</em></div><button class=\"product-buy-button product-buy-button--theme-cw\" type=\"button\">Buy now</button></div>,\n",
       " <div class=\"product\" data-gtm-vis-has-fired-347794_473=\"1\"><div class=\"product__image\"><img class=\"product__image-main\" src=\"https://static.chemistwarehouse.com.au/ams/media/pi/108222/2DF_200.jpg\"/><img class=\"product__image-splat\" role=\"presentation\" src=\"https://static.chemistwarehouse.com.au/ams/media/images/half_price.png\"/></div><div class=\"product__title\">Swisse Iron + Probiotic 30 Tablets</div><div class=\"attraqt-star-rating--blue attraqt-star-rating\"><div class=\"attraqt-star-rating-stars\"><div class=\"attraqt-star-rating-stars__bar\" style=\"width: 84%;\"></div></div><div class=\"attraqt-star-rating__count\">(5)</div></div><div class=\"product__price\"><span class=\"product__price-current\">$11.25</span><em class=\"product__price-discount\">$11.25 Off RRP!</em></div><button class=\"product-buy-button product-buy-button--theme-cw\" type=\"button\">Buy now</button></div>,\n",
       " <div class=\"product\" data-gtm-vis-has-fired-347794_473=\"1\"><div class=\"product__image\"><img class=\"product__image-main\" src=\"https://static.chemistwarehouse.com.au/ams/media/pi/67494/2DF_200.jpg\"/></div><div class=\"product__title\">Swisse Deep Sea Krill Oil 1000mg 60 Capsules Exclusive Size</div><div class=\"attraqt-star-rating--blue attraqt-star-rating\"><div class=\"attraqt-star-rating-stars\"><div class=\"attraqt-star-rating-stars__bar\" style=\"width: 93.658%;\"></div></div><div class=\"attraqt-star-rating__count\">(82)</div></div><div class=\"product__price\"><span class=\"product__price-current\">$29.99</span><em class=\"product__price-discount\">$7.00 Off EDLP!</em></div><button class=\"product-buy-button product-buy-button--theme-cw\" type=\"button\">Buy now</button></div>,\n",
       " <div class=\"product\" data-gtm-vis-has-fired-347794_473=\"1\"><div class=\"product__image\"><img class=\"product__image-main\" src=\"https://static.chemistwarehouse.com.au/ams/media/pi/70153/2DF_200.jpg\"/><img class=\"product__image-splat\" role=\"presentation\" src=\"https://static.chemistwarehouse.com.au/ams/media/images/better_than_half_price.png\"/></div><div class=\"product__title\">Swisse Menopause Balance 60 Tablets</div><div class=\"attraqt-star-rating--blue attraqt-star-rating\"><div class=\"attraqt-star-rating-stars\"><div class=\"attraqt-star-rating-stars__bar\" style=\"width: 88.858%;\"></div></div><div class=\"attraqt-star-rating__count\">(70)</div></div><div class=\"product__price\"><span class=\"product__price-current\">$21.99</span><em class=\"product__price-discount\">$22.00 Off RRP!</em></div><button class=\"product-buy-button product-buy-button--theme-cw\" type=\"button\">Buy now</button></div>,\n",
       " <div class=\"product\" data-gtm-vis-has-fired-347794_473=\"1\"><div class=\"product__image\"><img class=\"product__image-main\" src=\"https://static.chemistwarehouse.com.au/ams/media/pi/67970/2DF_200.jpg\"/><img class=\"product__image-splat\" role=\"presentation\" src=\"https://static.chemistwarehouse.com.au/ams/media/images/better_than_half_price.png\"/></div><div class=\"product__title\">Swisse Ultiboost Relax &amp; Sleep 60 Tablets</div><div class=\"attraqt-star-rating--blue attraqt-star-rating\"><div class=\"attraqt-star-rating-stars\"><div class=\"attraqt-star-rating-stars__bar\" style=\"width: 91.2%;\"></div></div><div class=\"attraqt-star-rating__count\">(50)</div></div><div class=\"product__price\"><span class=\"product__price-current\">$16.99</span><em class=\"product__price-discount\">$17.00 Off RRP!</em></div><button class=\"product-buy-button product-buy-button--theme-cw\" type=\"button\">Buy now</button></div>,\n",
       " <div class=\"product\" data-gtm-vis-has-fired-347794_473=\"1\"><div class=\"product__image\"><img class=\"product__image-main\" src=\"https://static.chemistwarehouse.com.au/ams/media/pi/92697/2DF_200.jpg\"/><img class=\"product__image-splat\" role=\"presentation\" src=\"https://static.chemistwarehouse.com.au/ams/media/images/better_than_half_price.png\"/></div><div class=\"product__title\">Swisse Kids Multi 60 Tablets</div><div class=\"attraqt-star-rating--blue attraqt-star-rating\"><div class=\"attraqt-star-rating-stars\"><div class=\"attraqt-star-rating-stars__bar\" style=\"width: 88%;\"></div></div><div class=\"attraqt-star-rating__count\">(20)</div></div><div class=\"product__price\"><span class=\"product__price-current\">$12.49</span><em class=\"product__price-discount\">$12.50 Off RRP!</em></div><button class=\"product-buy-button product-buy-button--theme-cw\" type=\"button\">Buy now</button></div>,\n",
       " <div class=\"product\" data-gtm-vis-has-fired-347794_473=\"1\"><div class=\"product__image\"><img class=\"product__image-main\" src=\"https://static.chemistwarehouse.com.au/ams/media/pi/59772/2DF_200.jpg\"/><img class=\"product__image-splat\" role=\"presentation\" src=\"https://static.chemistwarehouse.com.au/ams/media/images/better_than_half_price.png\"/></div><div class=\"product__title\">Swisse Ultiboost Magnesium 60 Tablets</div><div class=\"attraqt-star-rating--blue attraqt-star-rating\"><div class=\"attraqt-star-rating-stars\"><div class=\"attraqt-star-rating-stars__bar\" style=\"width: 93.684%;\"></div></div><div class=\"attraqt-star-rating__count\">(19)</div></div><div class=\"product__price\"><span class=\"product__price-current\">$10.99</span><em class=\"product__price-discount\">$11.00 Off RRP!</em></div><button class=\"product-buy-button product-buy-button--theme-cw\" type=\"button\">Buy now</button></div>,\n",
       " <div class=\"product\" data-gtm-vis-has-fired-347794_473=\"1\"><div class=\"product__image\"><img class=\"product__image-main\" src=\"https://static.chemistwarehouse.com.au/ams/media/pi/31587/2DF_200.jpg\"/><img class=\"product__image-splat\" role=\"presentation\" src=\"https://static.chemistwarehouse.com.au/ams/media/images/better_than_half_price.png\"/></div><div class=\"product__title\">Swisse Women's Ultivite Multivitamin 60 Tablets</div><div class=\"attraqt-star-rating--blue attraqt-star-rating\"><div class=\"attraqt-star-rating-stars\"><div class=\"attraqt-star-rating-stars__bar\" style=\"width: 92.094%;\"></div></div><div class=\"attraqt-star-rating__count\">(86)</div></div><div class=\"product__price\"><span class=\"product__price-current\">$15.99</span><em class=\"product__price-discount\">$22.00 Off RRP!</em></div><button class=\"product-buy-button product-buy-button--theme-cw\" type=\"button\">Buy now</button></div>,\n",
       " <div class=\"product\" data-gtm-vis-has-fired-347794_473=\"1\"><div class=\"product__image\"><img class=\"product__image-main\" src=\"https://static.chemistwarehouse.com.au/ams/media/pi/71933/2DF_200.jpg\"/><img class=\"product__image-splat\" role=\"presentation\" src=\"https://static.chemistwarehouse.com.au/ams/media/images/better_than_half_price.png\"/></div><div class=\"product__title\">Swisse Ultiboost Joint Repair 90 Tablets</div><div class=\"attraqt-star-rating--blue attraqt-star-rating\"><div class=\"attraqt-star-rating-stars\"><div class=\"attraqt-star-rating-stars__bar\" style=\"width: 94.5%;\"></div></div><div class=\"attraqt-star-rating__count\">(40)</div></div><div class=\"product__price\"><span class=\"product__price-current\">$21.99</span><em class=\"product__price-discount\">$35.00 Off RRP!</em></div><button class=\"product-buy-button product-buy-button--theme-cw\" type=\"button\">Buy now</button></div>,\n",
       " <div class=\"product\" data-gtm-vis-has-fired-347794_473=\"1\"><div class=\"product__image\"><img class=\"product__image-main\" src=\"https://static.chemistwarehouse.com.au/ams/media/pi/67493/2DF_200.jpg\"/><img class=\"product__image-splat\" role=\"presentation\" src=\"https://static.chemistwarehouse.com.au/ams/media/images/better_than_half_price.png\"/></div><div class=\"product__title\">Swisse Chlorophyll Mixed Berry 500ml</div><div class=\"attraqt-star-rating--blue attraqt-star-rating\"><div class=\"attraqt-star-rating-stars\"><div class=\"attraqt-star-rating-stars__bar\" style=\"width: 87.692%;\"></div></div><div class=\"attraqt-star-rating__count\">(39)</div></div><div class=\"product__price\"><span class=\"product__price-current\">$13.99</span><em class=\"product__price-discount\">$15.00 Off RRP!</em></div><button class=\"product-buy-button product-buy-button--theme-cw\" type=\"button\">Buy now</button></div>]"
      ]
     },
     "execution_count": 72,
     "metadata": {},
     "output_type": "execute_result"
    }
   ],
   "source": [
    "items = soup.find_all(class_=\"product\")\n",
    "items"
   ]
  },
  {
   "cell_type": "code",
   "execution_count": 26,
   "metadata": {},
   "outputs": [
    {
     "data": {
      "text/plain": [
       "<div class=\"product--featured product\" data-gtm-vis-first-on-screen-347794_473=\"765\" data-gtm-vis-first-on-screen-347794_475=\"776\" data-gtm-vis-has-fired-347794_473=\"1\" data-gtm-vis-has-fired-347794_475=\"1\" data-gtm-vis-recent-on-screen-347794_473=\"765\" data-gtm-vis-recent-on-screen-347794_475=\"776\" data-gtm-vis-total-visible-time-347794_473=\"100\" data-gtm-vis-total-visible-time-347794_475=\"100\"><div class=\"product__image\"><img class=\"product__image-main\" src=\"https://static.chemistwarehouse.com.au/ams/media/pi/70259/2DF_200.jpg\"/></div><div class=\"product__title\">Swisse Ultiboost Magnesium Calcium + Vitamin D 120 Tablets</div><div class=\"attraqt-star-rating--blue attraqt-star-rating\"><div class=\"attraqt-star-rating-stars\"><div class=\"attraqt-star-rating-stars__bar\" style=\"width: 92%;\"></div></div><div class=\"attraqt-star-rating__count\">(65)</div></div><div class=\"product__price\"><span class=\"product__price-current\">$14.49</span><em class=\"product__price-discount\">$14.50 Off RRP!</em></div><button class=\"product-buy-button product-buy-button--theme-cw\" type=\"button\">Buy now</button></div>"
      ]
     },
     "execution_count": 26,
     "metadata": {},
     "output_type": "execute_result"
    }
   ],
   "source": [
    "len(items)\n",
    "items[0]"
   ]
  },
  {
   "cell_type": "code",
   "execution_count": 35,
   "metadata": {},
   "outputs": [
    {
     "data": {
      "text/plain": [
       "'Swisse Ultiboost Magnesium Calcium + Vitamin D 120 Tablets'"
      ]
     },
     "execution_count": 35,
     "metadata": {},
     "output_type": "execute_result"
    }
   ],
   "source": [
    "# items[0].find(class_=\"product__title\").contents\n",
    "items[0].find(class_=\"product__title\").text"
   ]
  },
  {
   "cell_type": "code",
   "execution_count": 36,
   "metadata": {},
   "outputs": [
    {
     "data": {
      "text/plain": [
       "'$14.49'"
      ]
     },
     "execution_count": 36,
     "metadata": {},
     "output_type": "execute_result"
    }
   ],
   "source": [
    "items[0].find(class_=\"product__price-current\").text"
   ]
  },
  {
   "cell_type": "code",
   "execution_count": 73,
   "metadata": {},
   "outputs": [],
   "source": [
    "for item in items:\n",
    "    # item.find(class_=\"product__title\")\n",
    "    print(item.find(class_=\"product__title\").text)\n",
    "    print(item.find(class_=\"product__price-current\").text)"
   ]
  },
  {
   "cell_type": "code",
   "execution_count": 44,
   "metadata": {},
   "outputs": [],
   "source": [
    "from selenium.webdriver.common.by import By\n",
    "pager_list = driver.find_element(by=By.CLASS_NAME, value=\"pager-list\")\n",
    "\n"
   ]
  },
  {
   "cell_type": "code",
   "execution_count": 56,
   "metadata": {},
   "outputs": [
    {
     "data": {
      "text/plain": [
       "'<button class=\"pager__button--active pager__button\">1</button><button class=\"pager__button\">2</button><button class=\"pager__button\">3</button><button class=\"pager__button pager__button--next\">Next</button>'"
      ]
     },
     "execution_count": 56,
     "metadata": {},
     "output_type": "execute_result"
    }
   ],
   "source": [
    "pager_list.get_attribute('innerHTML')\n"
   ]
  },
  {
   "cell_type": "code",
   "execution_count": 69,
   "metadata": {},
   "outputs": [
    {
     "name": "stderr",
     "output_type": "stream",
     "text": [
      "C:\\Users\\Chayut\\AppData\\Local\\Temp\\ipykernel_4688\\3652869530.py:3: DeprecationWarning: find_element_by_xpath is deprecated. Please use find_element(by=By.XPATH, value=xpath) instead\n",
      "  next_button = driver.find_element_by_xpath(\"//button[contains(text(),'Next')]\")\n"
     ]
    },
    {
     "data": {
      "text/plain": [
       "<selenium.webdriver.remote.webelement.WebElement (session=\"b58ca8d21bc157636cca111af075816f\", element=\"1e738940-06c4-4ebc-a4db-f278f88302d1\")>"
      ]
     },
     "execution_count": 69,
     "metadata": {},
     "output_type": "execute_result"
    }
   ],
   "source": [
    "next_button = None\n",
    "try:\n",
    "    next_button = driver.find_element_by_xpath(\"//button[contains(text(),'Next')]\")\n",
    "except:\n",
    "    pass\n",
    "next_button"
   ]
  },
  {
   "cell_type": "code",
   "execution_count": 63,
   "metadata": {},
   "outputs": [],
   "source": [
    "next_button.click()"
   ]
  }
 ],
 "metadata": {
  "interpreter": {
   "hash": "f7e022b67859ae4a791bbcc1c75bde8b3a5bef3b9abb0060fdb4399d638fb2f6"
  },
  "kernelspec": {
   "display_name": "Python 3.9.12 64-bit",
   "language": "python",
   "name": "python3"
  },
  "language_info": {
   "codemirror_mode": {
    "name": "ipython",
    "version": 3
   },
   "file_extension": ".py",
   "mimetype": "text/x-python",
   "name": "python",
   "nbconvert_exporter": "python",
   "pygments_lexer": "ipython3",
   "version": "3.9.12"
  },
  "orig_nbformat": 4
 },
 "nbformat": 4,
 "nbformat_minor": 2
}
