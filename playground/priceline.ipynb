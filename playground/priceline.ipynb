{
 "cells": [
  {
   "cell_type": "code",
   "execution_count": null,
   "metadata": {},
   "outputs": [],
   "source": [
    "import requests\n",
    "import re\n",
    "# Web scraping library\n",
    "import undetected_chromedriver as uc\n",
    "from selenium import webdriver\n",
    "from bs4 import BeautifulSoup\n",
    "\n",
    "\n",
    "options = webdriver.ChromeOptions() \n",
    "options.add_argument(\"start-maximized\")\n",
    "driver = uc.Chrome(options=options)"
   ]
  },
  {
   "cell_type": "markdown",
   "metadata": {},
   "source": [
    "https://www.priceline.com.au/brand/john-frieda\n",
    "https://www.priceline.com.au/brand/clairol"
   ]
  },
  {
   "cell_type": "code",
   "execution_count": null,
   "metadata": {},
   "outputs": [],
   "source": [
    "# base_url = 'https://www.priceline.com.au/brand/nivea?cat=75'\n",
    "# base_url = 'https://www.priceline.com.au/brand/john-frieda'\n",
    "# base_url = 'https://www.priceline.com.au/brand/clairol'\n",
    "# base_url = 'https://www.priceline.com.au/brand/swisse'\n",
    "base_url = 'https://www.priceline.com.au/brand/mitchum'\n",
    "\n",
    "driver.get(base_url)\n"
   ]
  },
  {
   "cell_type": "code",
   "execution_count": null,
   "metadata": {},
   "outputs": [],
   "source": [
    "driver.page_source"
   ]
  },
  {
   "cell_type": "code",
   "execution_count": null,
   "metadata": {},
   "outputs": [],
   "source": [
    "next_button = None\n",
    "try:\n",
    "    next_button = driver.find_element_by_xpath(\"//button[contains(text(),'Load more products')]\")\n",
    "except:\n",
    "    pass\n",
    "next_button\n",
    "\n",
    "#  next_button = soup.find(id=\"start-next-page\")\n"
   ]
  },
  {
   "cell_type": "code",
   "execution_count": null,
   "metadata": {},
   "outputs": [],
   "source": [
    "next_button.click()\n"
   ]
  },
  {
   "cell_type": "code",
   "execution_count": null,
   "metadata": {},
   "outputs": [],
   "source": [
    "from selenium.webdriver.common.keys import Keys\n",
    "html = driver.find_element_by_tag_name('html')\n",
    "html.send_keys(Keys.END)"
   ]
  },
  {
   "cell_type": "code",
   "execution_count": null,
   "metadata": {},
   "outputs": [],
   "source": [
    "soup = BeautifulSoup(driver.page_source, \"html.parser\")\n",
    "items = soup.find_all(class_=\"item type-simple\")\n",
    "len(items)"
   ]
  },
  {
   "cell_type": "code",
   "execution_count": null,
   "metadata": {},
   "outputs": [],
   "source": [
    "items[0].find(class_=\"product-brand\").text.strip()"
   ]
  },
  {
   "cell_type": "code",
   "execution_count": null,
   "metadata": {},
   "outputs": [],
   "source": [
    "items[0].find(class_=\"product-image\").find('img')['src']"
   ]
  },
  {
   "cell_type": "code",
   "execution_count": null,
   "metadata": {},
   "outputs": [],
   "source": [
    "items[0].find(class_=\"price\").text"
   ]
  },
  {
   "cell_type": "code",
   "execution_count": null,
   "metadata": {},
   "outputs": [],
   "source": [
    "items[0].find(class_=\"product-link\").text\n"
   ]
  },
  {
   "cell_type": "code",
   "execution_count": null,
   "metadata": {},
   "outputs": [],
   "source": [
    "for item in items:\n",
    "    #item.find(class_=\"product__title\")\n",
    "    product_name = item.find(class_=\"product-link\").text\n",
    "    print(product_name)\n",
    "    price_str = item.find(class_=\"price\").text\n",
    "    image_url = item.find(class_=\"product-image\").find('img')['src']\n",
    "    brand = item.find(class_=\"product-brand\").text.strip()\n",
    "    number_strs = re.findall(\"\\d+\\.\\d+\", price_str)\n",
    "    price = float(number_strs[0])\n",
    "\n",
    "    # # Sync\n",
    "    payload = {\n",
    "        \"product_name\": product_name,\n",
    "        \"supplier_name\": \"Priceline\",\n",
    "        \"price\": price,\n",
    "        \"image_url\": image_url,\n",
    "        \"brand\": brand\n",
    "        }\n",
    "    url = \"http://localhost:3000/api/products/market_data\"\n",
    "    response = requests.post(url, json= payload)"
   ]
  }
 ],
 "metadata": {
  "interpreter": {
   "hash": "aee8b7b246df8f9039afb4144a1f6fd8d2ca17a180786b69acc140d282b71a49"
  },
  "kernelspec": {
   "display_name": "Python 3.9.12 64-bit",
   "language": "python",
   "name": "python3"
  },
  "language_info": {
   "codemirror_mode": {
    "name": "ipython",
    "version": 3
   },
   "file_extension": ".py",
   "mimetype": "text/x-python",
   "name": "python",
   "nbconvert_exporter": "python",
   "pygments_lexer": "ipython3",
   "version": "3.9.12"
  },
  "orig_nbformat": 4
 },
 "nbformat": 4,
 "nbformat_minor": 2
}
