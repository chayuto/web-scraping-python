{
 "cells": [
  {
   "cell_type": "code",
   "execution_count": null,
   "metadata": {},
   "outputs": [],
   "source": [
    "import requests\n",
    "import re\n",
    "\n",
    "# Web scraping library\n",
    "import undetected_chromedriver as uc\n",
    "from selenium import webdriver\n",
    "from bs4 import BeautifulSoup\n",
    "\n",
    "\n",
    "options = webdriver.ChromeOptions() \n",
    "options.add_argument(\"start-maximized\")\n",
    "driver = uc.Chrome(options=options)\n"
   ]
  },
  {
   "cell_type": "code",
   "execution_count": null,
   "metadata": {},
   "outputs": [],
   "source": [
    "base_url = 'https://shop.coles.com.au/a/national/everything/search/john%20frieda?pageNumber=1'"
   ]
  },
  {
   "cell_type": "code",
   "execution_count": null,
   "metadata": {},
   "outputs": [],
   "source": [
    "https://shop.coles.com.au/a/national/everything/search/swisse?pageNumber=1\n",
    "https://shop.coles.com.au/a/national/everything/search/starburst?pageNumber=1"
   ]
  },
  {
   "cell_type": "code",
   "execution_count": null,
   "metadata": {},
   "outputs": [],
   "source": [
    "driver.get(base_url)"
   ]
  },
  {
   "cell_type": "code",
   "execution_count": null,
   "metadata": {},
   "outputs": [],
   "source": [
    "soup = BeautifulSoup(driver.page_source, \"html.parser\")\n",
    "items = soup.find_all(class_=\"product\", partial=False)\n",
    "len(items)"
   ]
  },
  {
   "cell_type": "code",
   "execution_count": null,
   "metadata": {},
   "outputs": [],
   "source": [
    "items[0]"
   ]
  },
  {
   "cell_type": "code",
   "execution_count": null,
   "metadata": {},
   "outputs": [],
   "source": [
    "# items[2].find(class_=\"product-image\")\n",
    "items[2].find(class_=\"product-brand\").text\n",
    "items[2].find(class_=\"product-name\").text\n",
    "items[2].find(class_=\"dollar-value\").text\n",
    "items[2].find(class_=\"cent-value\").text"
   ]
  },
  {
   "cell_type": "code",
   "execution_count": null,
   "metadata": {},
   "outputs": [],
   "source": [
    "items[2].find(class_=\"product-image\").find('img')['src']"
   ]
  },
  {
   "cell_type": "code",
   "execution_count": null,
   "metadata": {},
   "outputs": [],
   "source": [
    "items[2].find(class_=\"product-brand\").text"
   ]
  },
  {
   "cell_type": "code",
   "execution_count": null,
   "metadata": {},
   "outputs": [],
   "source": [
    "for item in items:\n",
    "    \n",
    "    #item.find(class_=\"product__title\")\n",
    "    if item.find(class_=\"product-name\") == None:\n",
    "        continue\n",
    "\n",
    "    product_name = item.find(class_=\"product-name\").text\n",
    "    print(product_name)\n",
    "    brand = item.find(class_=\"product-brand\").text\n",
    "    dollar_str = item.find(class_=\"dollar-value\").text\n",
    "    cent_str = item.find(class_=\"cent-value\").text\n",
    "    image_path = item.find(class_=\"product-image\").find('img')['src']\n",
    "    # https://shop.coles.com.au/wcsstore/Coles-CAS/images/4/2/5/4254634-th.jpg\n",
    "\n",
    "    image_url = 'https://shop.coles.com.au' + image_path\n",
    "\n",
    "    price_str = dollar_str + cent_str\n",
    "    number_strs = re.findall(\"\\d+\\.\\d+\", price_str)\n",
    "    price = float(number_strs[0])\n",
    "\n",
    "    # # Sync\n",
    "    payload = {\n",
    "        \"product_name\": product_name,\n",
    "        \"supplier_name\": \"coles\",\n",
    "        \"brand\":brand,\n",
    "        \"price\": price,\n",
    "        \"image_url\": image_url\n",
    "        }\n",
    "    url = \"http://localhost:3000/api/products/market_data\"\n",
    "    response = requests.post(url, json= payload)"
   ]
  },
  {
   "cell_type": "code",
   "execution_count": null,
   "metadata": {},
   "outputs": [],
   "source": []
  }
 ],
 "metadata": {
  "interpreter": {
   "hash": "aee8b7b246df8f9039afb4144a1f6fd8d2ca17a180786b69acc140d282b71a49"
  },
  "kernelspec": {
   "display_name": "Python 3.9.12 64-bit",
   "language": "python",
   "name": "python3"
  },
  "language_info": {
   "codemirror_mode": {
    "name": "ipython",
    "version": 3
   },
   "file_extension": ".py",
   "mimetype": "text/x-python",
   "name": "python",
   "nbconvert_exporter": "python",
   "pygments_lexer": "ipython3",
   "version": "3.9.12"
  },
  "orig_nbformat": 4
 },
 "nbformat": 4,
 "nbformat_minor": 2
}
