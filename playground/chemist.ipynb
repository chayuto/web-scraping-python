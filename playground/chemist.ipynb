{
 "cells": [
  {
   "cell_type": "code",
   "execution_count": null,
   "metadata": {},
   "outputs": [],
   "source": [
    "# Web scraping library\n",
    "from selenium import webdriver\n",
    "import undetected_chromedriver as uc"
   ]
  },
  {
   "cell_type": "code",
   "execution_count": null,
   "metadata": {},
   "outputs": [],
   "source": [
    "base_url = 'https://www.chemistwarehouse.com.au/shop-online/587/swisse'\n",
    "\n",
    "# from webdriver_manager.chrome import ChromeDriverManager\n",
    "options = webdriver.ChromeOptions() \n",
    "options.add_argument(\"start-maximized\")\n",
    "driver = uc.Chrome(options=options)"
   ]
  },
  {
   "cell_type": "code",
   "execution_count": null,
   "metadata": {},
   "outputs": [],
   "source": [
    "driver.get(base_url)"
   ]
  },
  {
   "cell_type": "code",
   "execution_count": null,
   "metadata": {},
   "outputs": [],
   "source": [
    "driver.page_source"
   ]
  },
  {
   "cell_type": "code",
   "execution_count": null,
   "metadata": {},
   "outputs": [],
   "source": [
    "from bs4 import BeautifulSoup"
   ]
  },
  {
   "cell_type": "code",
   "execution_count": null,
   "metadata": {},
   "outputs": [],
   "source": [
    "soup = BeautifulSoup(driver.page_source, \"html.parser\")"
   ]
  },
  {
   "cell_type": "code",
   "execution_count": null,
   "metadata": {},
   "outputs": [],
   "source": [
    "soup"
   ]
  },
  {
   "cell_type": "code",
   "execution_count": null,
   "metadata": {},
   "outputs": [],
   "source": [
    "items = soup.find_all(class_=\"product\")\n",
    "items"
   ]
  },
  {
   "cell_type": "code",
   "execution_count": null,
   "metadata": {},
   "outputs": [],
   "source": [
    "len(items)\n",
    "items[0]"
   ]
  },
  {
   "cell_type": "code",
   "execution_count": null,
   "metadata": {},
   "outputs": [],
   "source": [
    "# items[0].find(class_=\"product__title\").contents\n",
    "items[0].find(class_=\"product__title\").text"
   ]
  },
  {
   "cell_type": "code",
   "execution_count": null,
   "metadata": {},
   "outputs": [],
   "source": [
    "items[0].find(class_=\"product__image-main\")['src']"
   ]
  },
  {
   "cell_type": "code",
   "execution_count": null,
   "metadata": {},
   "outputs": [],
   "source": [
    "price_str = items[0].find(class_=\"product__price-current\").text\n",
    "price_str"
   ]
  },
  {
   "cell_type": "code",
   "execution_count": null,
   "metadata": {},
   "outputs": [],
   "source": [
    "import re"
   ]
  },
  {
   "cell_type": "code",
   "execution_count": null,
   "metadata": {},
   "outputs": [],
   "source": [
    "number_strs = re.findall(\"\\d+\\.\\d+\", price_str)\n",
    "float(number_strs[0])"
   ]
  },
  {
   "cell_type": "code",
   "execution_count": null,
   "metadata": {},
   "outputs": [],
   "source": [
    "for item in items:\n",
    "    # item.find(class_=\"product__title\")\n",
    "    print(item.find(class_=\"product__title\").text)\n",
    "    print(item.find(class_=\"product__price-current\").text)"
   ]
  },
  {
   "cell_type": "code",
   "execution_count": null,
   "metadata": {},
   "outputs": [],
   "source": [
    "from selenium.webdriver.common.by import By\n",
    "pager_list = driver.find_element(by=By.CLASS_NAME, value=\"pager-list\")\n",
    "\n"
   ]
  },
  {
   "cell_type": "code",
   "execution_count": null,
   "metadata": {},
   "outputs": [],
   "source": [
    "pager_list.get_attribute('innerHTML')\n"
   ]
  },
  {
   "cell_type": "code",
   "execution_count": null,
   "metadata": {},
   "outputs": [],
   "source": [
    "next_button = None\n",
    "try:\n",
    "    next_button = driver.find_element_by_xpath(\"//button[contains(text(),'Next')]\")\n",
    "except:\n",
    "    pass\n",
    "next_button"
   ]
  },
  {
   "cell_type": "code",
   "execution_count": null,
   "metadata": {},
   "outputs": [],
   "source": [
    "next_button.click()"
   ]
  },
  {
   "cell_type": "code",
   "execution_count": null,
   "metadata": {},
   "outputs": [],
   "source": [
    "urls = [\n",
    "'https://www.chemistwarehouse.com.au/shop-online/587/swisse',\n",
    "'https://www.chemistwarehouse.com.au/shop-online/850/garnier-fructis',\n",
    "'https://www.chemistwarehouse.com.au/shop-online/5571/john-frieda-haircare',\n",
    "'https://www.chemistwarehouse.com.au/shop-online/2367/vicks-cold-flu',\n",
    "'https://www.chemistwarehouse.com.au/shop-online/2104/vicks-vapodrops',\n",
    "'https://www.chemistwarehouse.com.au/shop-online/5286/clairol-natural-instincts',\n",
    "'https://www.chemistwarehouse.com.au/shop-online/2203/nivea-body',\n",
    "'https://www.chemistwarehouse.com.au/shop-online/2368/voost',\n",
    "'https://www.chemistwarehouse.com.au/shop-online/4458/duit-foot-care',\n",
    "'https://www.chemistwarehouse.com.au/shop-online/4717/duit-hand-cream',\n",
    "]"
   ]
  }
 ],
 "metadata": {
  "interpreter": {
   "hash": "f7e022b67859ae4a791bbcc1c75bde8b3a5bef3b9abb0060fdb4399d638fb2f6"
  },
  "kernelspec": {
   "display_name": "Python 3.9.12 64-bit",
   "language": "python",
   "name": "python3"
  },
  "language_info": {
   "codemirror_mode": {
    "name": "ipython",
    "version": 3
   },
   "file_extension": ".py",
   "mimetype": "text/x-python",
   "name": "python",
   "nbconvert_exporter": "python",
   "pygments_lexer": "ipython3",
   "version": "3.9.12"
  },
  "orig_nbformat": 4
 },
 "nbformat": 4,
 "nbformat_minor": 2
}
